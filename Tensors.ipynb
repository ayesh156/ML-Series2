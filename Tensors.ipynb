{
 "cells": [
  {
   "cell_type": "markdown",
   "id": "4780f843",
   "metadata": {},
   "source": [
    "# TENSORS"
   ]
  },
  {
   "cell_type": "markdown",
   "id": "73519310",
   "metadata": {},
   "source": [
    "## 0-D TENSORS / SCALERS"
   ]
  },
  {
   "cell_type": "code",
   "execution_count": 1,
   "id": "2af51991",
   "metadata": {},
   "outputs": [],
   "source": [
    "import numpy as np"
   ]
  },
  {
   "cell_type": "code",
   "execution_count": 2,
   "id": "c29882b2",
   "metadata": {},
   "outputs": [],
   "source": [
    "a = np.array(2)"
   ]
  },
  {
   "cell_type": "code",
   "execution_count": 3,
   "id": "7349ad11",
   "metadata": {},
   "outputs": [
    {
     "data": {
      "text/plain": [
       "array(2)"
      ]
     },
     "execution_count": 3,
     "metadata": {},
     "output_type": "execute_result"
    }
   ],
   "source": [
    "a"
   ]
  },
  {
   "cell_type": "code",
   "execution_count": 4,
   "id": "a21ff863",
   "metadata": {},
   "outputs": [
    {
     "data": {
      "text/plain": [
       "0"
      ]
     },
     "execution_count": 4,
     "metadata": {},
     "output_type": "execute_result"
    }
   ],
   "source": [
    "a.ndim"
   ]
  },
  {
   "cell_type": "markdown",
   "id": "c5ff449e",
   "metadata": {},
   "source": [
    "# 1-D TENSORS / VECTOR"
   ]
  },
  {
   "cell_type": "code",
   "execution_count": 5,
   "id": "dc4c35a1",
   "metadata": {},
   "outputs": [],
   "source": [
    "arr = np.array([1,2,3,4])"
   ]
  },
  {
   "cell_type": "code",
   "execution_count": 6,
   "id": "6755c2a1",
   "metadata": {},
   "outputs": [
    {
     "data": {
      "text/plain": [
       "array([1, 2, 3, 4])"
      ]
     },
     "execution_count": 6,
     "metadata": {},
     "output_type": "execute_result"
    }
   ],
   "source": [
    "arr"
   ]
  },
  {
   "cell_type": "code",
   "execution_count": 7,
   "id": "16814299",
   "metadata": {},
   "outputs": [
    {
     "data": {
      "text/plain": [
       "1"
      ]
     },
     "execution_count": 7,
     "metadata": {},
     "output_type": "execute_result"
    }
   ],
   "source": [
    "arr.ndim"
   ]
  },
  {
   "cell_type": "markdown",
   "id": "559dce7f",
   "metadata": {},
   "source": [
    "## 2-D TENSORS / MATRICES"
   ]
  },
  {
   "cell_type": "code",
   "execution_count": 8,
   "id": "3c5dc000",
   "metadata": {},
   "outputs": [],
   "source": [
    "mat = np.array([[1,2,3],[4,5,6],[7,8,9]])"
   ]
  },
  {
   "cell_type": "code",
   "execution_count": 9,
   "id": "29b9e7f2",
   "metadata": {},
   "outputs": [
    {
     "data": {
      "text/plain": [
       "array([[1, 2, 3],\n",
       "       [4, 5, 6],\n",
       "       [7, 8, 9]])"
      ]
     },
     "execution_count": 9,
     "metadata": {},
     "output_type": "execute_result"
    }
   ],
   "source": [
    "mat"
   ]
  },
  {
   "cell_type": "code",
   "execution_count": 10,
   "id": "43a8132e",
   "metadata": {},
   "outputs": [
    {
     "data": {
      "text/plain": [
       "2"
      ]
     },
     "execution_count": 10,
     "metadata": {},
     "output_type": "execute_result"
    }
   ],
   "source": [
    "mat.ndim"
   ]
  },
  {
   "cell_type": "code",
   "execution_count": null,
   "id": "2b1ce02c",
   "metadata": {},
   "outputs": [],
   "source": []
  }
 ],
 "metadata": {
  "kernelspec": {
   "display_name": "Python 3 (ipykernel)",
   "language": "python",
   "name": "python3"
  },
  "language_info": {
   "codemirror_mode": {
    "name": "ipython",
    "version": 3
   },
   "file_extension": ".py",
   "mimetype": "text/x-python",
   "name": "python",
   "nbconvert_exporter": "python",
   "pygments_lexer": "ipython3",
   "version": "3.9.12"
  }
 },
 "nbformat": 4,
 "nbformat_minor": 5
}
